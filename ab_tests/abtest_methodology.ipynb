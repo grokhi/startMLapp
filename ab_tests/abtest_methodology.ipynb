{
 "cells": [
  {
   "attachments": {},
   "cell_type": "markdown",
   "metadata": {},
   "source": [
    "Base model case"
   ]
  },
  {
   "attachments": {},
   "cell_type": "markdown",
   "metadata": {},
   "source": [
    "1) generating recommendations and counting hitrate score"
   ]
  },
  {
   "cell_type": "code",
   "execution_count": 6,
   "id": "49e7b906",
   "metadata": {},
   "outputs": [
    {
     "data": {
      "text/plain": [
       "<catboost.core.CatBoostClassifier at 0x1dcbffba500>"
      ]
     },
     "execution_count": 6,
     "metadata": {},
     "output_type": "execute_result"
    }
   ],
   "source": [
    "from catboost import CatBoostClassifier\n",
    "import pandas as pd\n",
    "import numpy as np\n",
    "\n",
    "CONN = \"postgresql://robot-startml-ro:pheiph0hahj1Vaif@\"\\\n",
    "    \"postgres.lab.karpov.courses:6432/startml\"\n",
    "\n",
    "model = CatBoostClassifier()\n",
    "model_path = '../airflow/dags/recommendation_models/catboost_base_model'\n",
    "\n",
    "model.load_model(model_path)"
   ]
  },
  {
   "cell_type": "code",
   "execution_count": 7,
   "id": "c1474d10",
   "metadata": {},
   "outputs": [
    {
     "name": "stdout",
     "output_type": "stream",
     "text": [
      "(163205, 8)\n"
     ]
    },
    {
     "data": {
      "text/html": [
       "<div>\n",
       "<style scoped>\n",
       "    .dataframe tbody tr th:only-of-type {\n",
       "        vertical-align: middle;\n",
       "    }\n",
       "\n",
       "    .dataframe tbody tr th {\n",
       "        vertical-align: top;\n",
       "    }\n",
       "\n",
       "    .dataframe thead th {\n",
       "        text-align: right;\n",
       "    }\n",
       "</style>\n",
       "<table border=\"1\" class=\"dataframe\">\n",
       "  <thead>\n",
       "    <tr style=\"text-align: right;\">\n",
       "      <th></th>\n",
       "      <th>user_id</th>\n",
       "      <th>gender</th>\n",
       "      <th>age</th>\n",
       "      <th>country</th>\n",
       "      <th>city</th>\n",
       "      <th>exp_group</th>\n",
       "      <th>os</th>\n",
       "      <th>source</th>\n",
       "    </tr>\n",
       "  </thead>\n",
       "  <tbody>\n",
       "    <tr>\n",
       "      <th>10525</th>\n",
       "      <td>10728</td>\n",
       "      <td>1</td>\n",
       "      <td>45</td>\n",
       "      <td>Russia</td>\n",
       "      <td>Chelyabinsk</td>\n",
       "      <td>4</td>\n",
       "      <td>iOS</td>\n",
       "      <td>ads</td>\n",
       "    </tr>\n",
       "    <tr>\n",
       "      <th>104822</th>\n",
       "      <td>110152</td>\n",
       "      <td>1</td>\n",
       "      <td>23</td>\n",
       "      <td>Ukraine</td>\n",
       "      <td>Melitopol</td>\n",
       "      <td>1</td>\n",
       "      <td>Android</td>\n",
       "      <td>organic</td>\n",
       "    </tr>\n",
       "    <tr>\n",
       "      <th>161513</th>\n",
       "      <td>166858</td>\n",
       "      <td>0</td>\n",
       "      <td>28</td>\n",
       "      <td>Russia</td>\n",
       "      <td>Groznyy</td>\n",
       "      <td>2</td>\n",
       "      <td>Android</td>\n",
       "      <td>organic</td>\n",
       "    </tr>\n",
       "    <tr>\n",
       "      <th>118361</th>\n",
       "      <td>123691</td>\n",
       "      <td>1</td>\n",
       "      <td>18</td>\n",
       "      <td>Russia</td>\n",
       "      <td>Novosibirsk</td>\n",
       "      <td>2</td>\n",
       "      <td>Android</td>\n",
       "      <td>organic</td>\n",
       "    </tr>\n",
       "    <tr>\n",
       "      <th>33304</th>\n",
       "      <td>33525</td>\n",
       "      <td>0</td>\n",
       "      <td>19</td>\n",
       "      <td>Russia</td>\n",
       "      <td>Kireyevsk</td>\n",
       "      <td>4</td>\n",
       "      <td>Android</td>\n",
       "      <td>ads</td>\n",
       "    </tr>\n",
       "  </tbody>\n",
       "</table>\n",
       "</div>"
      ],
      "text/plain": [
       "        user_id  gender  age  country         city  exp_group       os  \\\n",
       "10525     10728       1   45   Russia  Chelyabinsk          4      iOS   \n",
       "104822   110152       1   23  Ukraine    Melitopol          1  Android   \n",
       "161513   166858       0   28   Russia      Groznyy          2  Android   \n",
       "118361   123691       1   18   Russia  Novosibirsk          2  Android   \n",
       "33304     33525       0   19   Russia    Kireyevsk          4  Android   \n",
       "\n",
       "         source  \n",
       "10525       ads  \n",
       "104822  organic  \n",
       "161513  organic  \n",
       "118361  organic  \n",
       "33304       ads  "
      ]
     },
     "execution_count": 7,
     "metadata": {},
     "output_type": "execute_result"
    }
   ],
   "source": [
    "user_info = pd.read_sql(\n",
    "    \"\"\"SELECT * FROM public.user_data\"\"\",\n",
    "    con=CONN\n",
    ")\n",
    "print(user_info.shape)\n",
    "user_info.sample(5,random_state=0)"
   ]
  },
  {
   "cell_type": "code",
   "execution_count": 9,
   "id": "3a8375d4",
   "metadata": {},
   "outputs": [],
   "source": [
    "views = pd.read_csv('views.csv')\n",
    "views['date_s'] = pd.to_datetime(views.timestamp, unit='s')\n",
    "likes = pd.read_csv('likes.csv')\n",
    "likes['date_s'] = pd.to_datetime(likes.timestamp, unit='s')"
   ]
  },
  {
   "cell_type": "code",
   "execution_count": 10,
   "id": "a810ab50",
   "metadata": {},
   "outputs": [],
   "source": [
    "tmp = views.groupby('user_id').exp_group.nunique().reset_index()\n",
    "\n",
    "duplicate_users = tmp[tmp.exp_group > 1].user_id.values\n",
    "\n",
    "views = views[~np.in1d(views.user_id, duplicate_users)]\n",
    "likes = likes[~np.in1d(likes.user_id, duplicate_users)]"
   ]
  },
  {
   "cell_type": "code",
   "execution_count": 11,
   "id": "6dcfd0fe",
   "metadata": {},
   "outputs": [],
   "source": [
    "posts_features = pd.read_sql(\n",
    "    \"\"\"SELECT * FROM public.grokhi_base_model_posts_info_features\"\"\",\n",
    "    con=CONN\n",
    ")\n",
    "\n",
    "posts_features = posts_features.drop(\n",
    "    ['index', 'text', 'topic'], axis=1\n",
    ")"
   ]
  },
  {
   "cell_type": "code",
   "execution_count": 12,
   "id": "c6525195",
   "metadata": {},
   "outputs": [],
   "source": [
    "def get_recommendations(\n",
    "    user_id:pd.Series, \n",
    "    time:pd.Series, \n",
    "    user_features:pd.DataFrame, \n",
    "    likes:pd.DataFrame, \n",
    "    limit:int = 5\n",
    ") -> list:\n",
    "    # user_id = views.loc[0,'user_id']\n",
    "\n",
    "    user_features = user_features[user_features.user_id==user_id].drop('user_id', axis=1)\n",
    "\n",
    "    add_user_features = dict(zip(user_features.columns, user_features.values[0]))\n",
    "\n",
    "    user_posts_features = posts_features.assign(**add_user_features)\n",
    "    user_posts_features = user_posts_features.set_index('post_id')\n",
    "\n",
    "    user_posts_features['hour'] = time.hour\n",
    "    user_posts_features['month'] = time.month\n",
    "\n",
    "    predicts = model.predict_proba(user_posts_features)[:, 1]\n",
    "    user_posts_features['predicts'] = predicts\n",
    "\n",
    "    # deleting liked posts\n",
    "    liked_posts = likes[likes.user_id == user_id].post_id.values\n",
    "\n",
    "    filtered_ = user_posts_features[~user_posts_features.index.isin(liked_posts)]\n",
    "    recommended_posts = filtered_.sort_values('predicts')[-limit:].index\n",
    "\n",
    "    return recommended_posts.to_list()"
   ]
  },
  {
   "cell_type": "code",
   "execution_count": 13,
   "id": "1745128e",
   "metadata": {},
   "outputs": [
    {
     "data": {
      "text/html": [
       "<div>\n",
       "<style scoped>\n",
       "    .dataframe tbody tr th:only-of-type {\n",
       "        vertical-align: middle;\n",
       "    }\n",
       "\n",
       "    .dataframe tbody tr th {\n",
       "        vertical-align: top;\n",
       "    }\n",
       "\n",
       "    .dataframe thead th {\n",
       "        text-align: right;\n",
       "    }\n",
       "</style>\n",
       "<table border=\"1\" class=\"dataframe\">\n",
       "  <thead>\n",
       "    <tr style=\"text-align: right;\">\n",
       "      <th></th>\n",
       "      <th>user_id</th>\n",
       "      <th>exp_group</th>\n",
       "      <th>timestamp</th>\n",
       "      <th>date_s</th>\n",
       "      <th>recommendations</th>\n",
       "    </tr>\n",
       "  </thead>\n",
       "  <tbody>\n",
       "    <tr>\n",
       "      <th>0</th>\n",
       "      <td>128381</td>\n",
       "      <td>control</td>\n",
       "      <td>1654030803</td>\n",
       "      <td>2022-05-31 21:00:03</td>\n",
       "      <td>[2776, 2782, 7122, 5765, 3834]</td>\n",
       "    </tr>\n",
       "    <tr>\n",
       "      <th>1</th>\n",
       "      <td>146885</td>\n",
       "      <td>test</td>\n",
       "      <td>1654030811</td>\n",
       "      <td>2022-05-31 21:00:11</td>\n",
       "      <td>[1491, 1742, 1830, 7296, 2904]</td>\n",
       "    </tr>\n",
       "    <tr>\n",
       "      <th>2</th>\n",
       "      <td>50948</td>\n",
       "      <td>test</td>\n",
       "      <td>1654030825</td>\n",
       "      <td>2022-05-31 21:00:25</td>\n",
       "      <td>[1830, 1742, 1253, 7296, 2904]</td>\n",
       "    </tr>\n",
       "    <tr>\n",
       "      <th>3</th>\n",
       "      <td>37703</td>\n",
       "      <td>test</td>\n",
       "      <td>1654030826</td>\n",
       "      <td>2022-05-31 21:00:26</td>\n",
       "      <td>[1884, 7296, 1742, 1253, 2904]</td>\n",
       "    </tr>\n",
       "    <tr>\n",
       "      <th>4</th>\n",
       "      <td>14661</td>\n",
       "      <td>test</td>\n",
       "      <td>1654030829</td>\n",
       "      <td>2022-05-31 21:00:29</td>\n",
       "      <td>[1491, 1742, 2904, 1884, 1218]</td>\n",
       "    </tr>\n",
       "    <tr>\n",
       "      <th>...</th>\n",
       "      <td>...</td>\n",
       "      <td>...</td>\n",
       "      <td>...</td>\n",
       "      <td>...</td>\n",
       "      <td>...</td>\n",
       "    </tr>\n",
       "    <tr>\n",
       "      <th>995</th>\n",
       "      <td>51158</td>\n",
       "      <td>test</td>\n",
       "      <td>1654037179</td>\n",
       "      <td>2022-05-31 22:46:19</td>\n",
       "      <td>[3834, 5765, 3677, 4052, 2782]</td>\n",
       "    </tr>\n",
       "    <tr>\n",
       "      <th>996</th>\n",
       "      <td>69954</td>\n",
       "      <td>control</td>\n",
       "      <td>1654037179</td>\n",
       "      <td>2022-05-31 22:46:19</td>\n",
       "      <td>[249, 1766, 576, 466, 213]</td>\n",
       "    </tr>\n",
       "    <tr>\n",
       "      <th>997</th>\n",
       "      <td>142789</td>\n",
       "      <td>control</td>\n",
       "      <td>1654037191</td>\n",
       "      <td>2022-05-31 22:46:31</td>\n",
       "      <td>[7296, 576, 1766, 466, 213]</td>\n",
       "    </tr>\n",
       "    <tr>\n",
       "      <th>998</th>\n",
       "      <td>84424</td>\n",
       "      <td>test</td>\n",
       "      <td>1654037196</td>\n",
       "      <td>2022-05-31 22:46:36</td>\n",
       "      <td>[624, 6966, 5370, 5321, 5950]</td>\n",
       "    </tr>\n",
       "    <tr>\n",
       "      <th>999</th>\n",
       "      <td>129782</td>\n",
       "      <td>control</td>\n",
       "      <td>1654037200</td>\n",
       "      <td>2022-05-31 22:46:40</td>\n",
       "      <td>[4052, 3834, 2776, 3853, 2782]</td>\n",
       "    </tr>\n",
       "  </tbody>\n",
       "</table>\n",
       "<p>1000 rows × 5 columns</p>\n",
       "</div>"
      ],
      "text/plain": [
       "     user_id exp_group   timestamp              date_s  \\\n",
       "0     128381   control  1654030803 2022-05-31 21:00:03   \n",
       "1     146885      test  1654030811 2022-05-31 21:00:11   \n",
       "2      50948      test  1654030825 2022-05-31 21:00:25   \n",
       "3      37703      test  1654030826 2022-05-31 21:00:26   \n",
       "4      14661      test  1654030829 2022-05-31 21:00:29   \n",
       "..       ...       ...         ...                 ...   \n",
       "995    51158      test  1654037179 2022-05-31 22:46:19   \n",
       "996    69954   control  1654037179 2022-05-31 22:46:19   \n",
       "997   142789   control  1654037191 2022-05-31 22:46:31   \n",
       "998    84424      test  1654037196 2022-05-31 22:46:36   \n",
       "999   129782   control  1654037200 2022-05-31 22:46:40   \n",
       "\n",
       "                    recommendations  \n",
       "0    [2776, 2782, 7122, 5765, 3834]  \n",
       "1    [1491, 1742, 1830, 7296, 2904]  \n",
       "2    [1830, 1742, 1253, 7296, 2904]  \n",
       "3    [1884, 7296, 1742, 1253, 2904]  \n",
       "4    [1491, 1742, 2904, 1884, 1218]  \n",
       "..                              ...  \n",
       "995  [3834, 5765, 3677, 4052, 2782]  \n",
       "996      [249, 1766, 576, 466, 213]  \n",
       "997     [7296, 576, 1766, 466, 213]  \n",
       "998   [624, 6966, 5370, 5321, 5950]  \n",
       "999  [4052, 3834, 2776, 3853, 2782]  \n",
       "\n",
       "[1000 rows x 5 columns]"
      ]
     },
     "execution_count": 13,
     "metadata": {},
     "output_type": "execute_result"
    }
   ],
   "source": [
    "views_ = views.drop(columns='recommendations').copy()[:1000]\n",
    "\n",
    "views_['recommendations'] = views_.apply(\n",
    "    lambda row: get_recommendations(\n",
    "        row['user_id'], \n",
    "        row['date_s'],\n",
    "        user_features=user_info,\n",
    "        likes=likes\n",
    "    ), axis=1\n",
    ")\n",
    "views_"
   ]
  },
  {
   "cell_type": "code",
   "execution_count": 14,
   "id": "240b0be7",
   "metadata": {},
   "outputs": [],
   "source": [
    "tmp = pd.merge(views_, likes, on='user_id', how='outer')\n",
    "tmp.post_id = tmp.post_id.fillna(-1).astype(int)\n",
    "\n",
    "tmp = tmp.dropna()"
   ]
  },
  {
   "cell_type": "code",
   "execution_count": 15,
   "id": "84ced881",
   "metadata": {},
   "outputs": [
    {
     "data": {
      "text/html": [
       "<div>\n",
       "<style scoped>\n",
       "    .dataframe tbody tr th:only-of-type {\n",
       "        vertical-align: middle;\n",
       "    }\n",
       "\n",
       "    .dataframe tbody tr th {\n",
       "        vertical-align: top;\n",
       "    }\n",
       "\n",
       "    .dataframe thead th {\n",
       "        text-align: right;\n",
       "    }\n",
       "</style>\n",
       "<table border=\"1\" class=\"dataframe\">\n",
       "  <thead>\n",
       "    <tr style=\"text-align: right;\">\n",
       "      <th></th>\n",
       "      <th>post_id</th>\n",
       "      <th>recommendations</th>\n",
       "    </tr>\n",
       "  </thead>\n",
       "  <tbody>\n",
       "    <tr>\n",
       "      <th>3492</th>\n",
       "      <td>6890</td>\n",
       "      <td>[2388, 3853, 5765, 2776, 3834]</td>\n",
       "    </tr>\n",
       "    <tr>\n",
       "      <th>4830</th>\n",
       "      <td>5456</td>\n",
       "      <td>[624, 5474, 5370, 5321, 5950]</td>\n",
       "    </tr>\n",
       "    <tr>\n",
       "      <th>3749</th>\n",
       "      <td>4787</td>\n",
       "      <td>[1176, 1161, 1830, 7296, 2904]</td>\n",
       "    </tr>\n",
       "    <tr>\n",
       "      <th>5231</th>\n",
       "      <td>2557</td>\n",
       "      <td>[7296, 576, 1766, 466, 213]</td>\n",
       "    </tr>\n",
       "    <tr>\n",
       "      <th>2656</th>\n",
       "      <td>7014</td>\n",
       "      <td>[1730, 576, 1766, 466, 213]</td>\n",
       "    </tr>\n",
       "  </tbody>\n",
       "</table>\n",
       "</div>"
      ],
      "text/plain": [
       "      post_id                 recommendations\n",
       "3492     6890  [2388, 3853, 5765, 2776, 3834]\n",
       "4830     5456   [624, 5474, 5370, 5321, 5950]\n",
       "3749     4787  [1176, 1161, 1830, 7296, 2904]\n",
       "5231     2557     [7296, 576, 1766, 466, 213]\n",
       "2656     7014     [1730, 576, 1766, 466, 213]"
      ]
     },
     "execution_count": 15,
     "metadata": {},
     "output_type": "execute_result"
    }
   ],
   "source": [
    "tmp.recommendations = tmp.recommendations.astype(str)\n",
    "tmp['recommendations'] = tmp.recommendations.apply(\n",
    "    lambda x: list(map(int, filter(bool, x[1:-1].split(', '))))\n",
    ")\n",
    "\n",
    "tmp.sample(5)[['post_id','recommendations']]"
   ]
  },
  {
   "cell_type": "code",
   "execution_count": null,
   "id": "e811f824",
   "metadata": {},
   "outputs": [],
   "source": [
    "tmp.post_id = tmp.apply(\n",
    "    lambda row:\n",
    "    -1\n",
    "    if\n",
    "        (row.post_id == -1) | \n",
    "        ((row.timestamp_x > row.timestamp_y) |\n",
    "        (row.timestamp_x + 60 * 60 < row.timestamp_y)) |\n",
    "        (row.post_id not in row.recommendations)\n",
    "    else\n",
    "    row.post_id, axis=1\n",
    ")\n",
    "\n",
    "tmp.sample(5)[['post_id','recommendations']]"
   ]
  },
  {
   "cell_type": "code",
   "execution_count": null,
   "id": "c8c34009",
   "metadata": {},
   "outputs": [
    {
     "name": "stdout",
     "output_type": "stream",
     "text": [
      "Getting Hitrate...\n"
     ]
    },
    {
     "data": {
      "text/plain": [
       "0.0"
      ]
     },
     "metadata": {},
     "output_type": "display_data"
    }
   ],
   "source": [
    "def agg_hitrate(values):\n",
    "    values = set(values)\n",
    "    if -1 in values and len(values) >= 2:\n",
    "        return 1\n",
    "    elif -1 not in values:\n",
    "        return 1\n",
    "    return 0\n",
    "\n",
    "tmp_agg = (\n",
    "    tmp.groupby(['user_id', 'exp_group', 'timestamp_x'])\n",
    "    .post_id.agg(agg_hitrate)\n",
    ")\n",
    "tmp_agg = tmp_agg.reset_index().rename(\n",
    "    columns={'post_id': 'hitrate'}\n",
    ")\n",
    "\n",
    "print('Getting Hitrate...')\n",
    "hitrate_score = tmp_agg.hitrate.mean()\n",
    "hitrate_score"
   ]
  },
  {
   "attachments": {},
   "cell_type": "markdown",
   "metadata": {},
   "source": [
    "Oops, recommendations not working properly. Will change that in future. For now, let's use provided recommendations column from KarpovCourses"
   ]
  },
  {
   "cell_type": "code",
   "execution_count": 18,
   "id": "240b0be7",
   "metadata": {},
   "outputs": [
    {
     "name": "stdout",
     "output_type": "stream",
     "text": [
      "Getting Hitrate...\n"
     ]
    },
    {
     "data": {
      "text/plain": [
       "0.7132582734855227"
      ]
     },
     "execution_count": 18,
     "metadata": {},
     "output_type": "execute_result"
    }
   ],
   "source": [
    "tmp = pd.merge(views, likes, on='user_id', how='outer')\n",
    "tmp.post_id = tmp.post_id.fillna(-1).astype(int)\n",
    "\n",
    "tmp.recommendations = tmp.recommendations.astype(str)\n",
    "tmp['recommendations'] = tmp.recommendations.apply(\n",
    "    lambda x: list(map(int, filter(bool, x[1:-1].split(' '))))\n",
    ")\n",
    "\n",
    "tmp.sample(5)[['post_id','recommendations']]\n",
    "tmp.post_id = tmp.apply(\n",
    "    lambda row:\n",
    "    -1\n",
    "    if\n",
    "        (row.post_id == -1) | \n",
    "        ((row.timestamp_x > row.timestamp_y) |\n",
    "        (row.timestamp_x + 60 * 60 < row.timestamp_y)) |\n",
    "        (row.post_id not in row.recommendations)\n",
    "    else\n",
    "    row.post_id, axis=1\n",
    ")\n",
    "\n",
    "tmp.sample(5)[['post_id','recommendations']]\n",
    "def agg_hitrate(values):\n",
    "    values = set(values)\n",
    "    if -1 in values and len(values) >= 2:\n",
    "        return 1\n",
    "    elif -1 not in values:\n",
    "        return 1\n",
    "    return 0\n",
    "\n",
    "tmp_agg = (\n",
    "    tmp.groupby(['user_id', 'exp_group', 'timestamp_x'])\n",
    "    .post_id.agg(agg_hitrate)\n",
    ")\n",
    "tmp_agg = tmp_agg.reset_index().rename(\n",
    "    columns={'post_id': 'hitrate'}\n",
    ")\n",
    "\n",
    "print('Getting Hitrate...')\n",
    "hitrate_score = tmp_agg.hitrate.mean()\n",
    "hitrate_score"
   ]
  },
  {
   "attachments": {},
   "cell_type": "markdown",
   "metadata": {},
   "source": [
    "2) get abtest table and make A/B Test"
   ]
  },
  {
   "cell_type": "code",
   "execution_count": 19,
   "metadata": {},
   "outputs": [
    {
     "data": {
      "text/html": [
       "<div>\n",
       "<style scoped>\n",
       "    .dataframe tbody tr th:only-of-type {\n",
       "        vertical-align: middle;\n",
       "    }\n",
       "\n",
       "    .dataframe tbody tr th {\n",
       "        vertical-align: top;\n",
       "    }\n",
       "\n",
       "    .dataframe thead th {\n",
       "        text-align: right;\n",
       "    }\n",
       "</style>\n",
       "<table border=\"1\" class=\"dataframe\">\n",
       "  <thead>\n",
       "    <tr style=\"text-align: right;\">\n",
       "      <th></th>\n",
       "      <th>exp_group</th>\n",
       "      <th>bucket</th>\n",
       "      <th>hitrate</th>\n",
       "      <th>view</th>\n",
       "      <th>hitrate_new</th>\n",
       "    </tr>\n",
       "  </thead>\n",
       "  <tbody>\n",
       "    <tr>\n",
       "      <th>0</th>\n",
       "      <td>control</td>\n",
       "      <td>0</td>\n",
       "      <td>621</td>\n",
       "      <td>890</td>\n",
       "      <td>0.697753</td>\n",
       "    </tr>\n",
       "    <tr>\n",
       "      <th>1</th>\n",
       "      <td>control</td>\n",
       "      <td>1</td>\n",
       "      <td>666</td>\n",
       "      <td>941</td>\n",
       "      <td>0.707758</td>\n",
       "    </tr>\n",
       "    <tr>\n",
       "      <th>2</th>\n",
       "      <td>control</td>\n",
       "      <td>2</td>\n",
       "      <td>705</td>\n",
       "      <td>1006</td>\n",
       "      <td>0.700795</td>\n",
       "    </tr>\n",
       "    <tr>\n",
       "      <th>3</th>\n",
       "      <td>control</td>\n",
       "      <td>3</td>\n",
       "      <td>645</td>\n",
       "      <td>921</td>\n",
       "      <td>0.700326</td>\n",
       "    </tr>\n",
       "    <tr>\n",
       "      <th>4</th>\n",
       "      <td>control</td>\n",
       "      <td>4</td>\n",
       "      <td>710</td>\n",
       "      <td>969</td>\n",
       "      <td>0.732714</td>\n",
       "    </tr>\n",
       "  </tbody>\n",
       "</table>\n",
       "</div>"
      ],
      "text/plain": [
       "  exp_group  bucket  hitrate  view  hitrate_new\n",
       "0   control       0      621   890     0.697753\n",
       "1   control       1      666   941     0.707758\n",
       "2   control       2      705  1006     0.700795\n",
       "3   control       3      645   921     0.700326\n",
       "4   control       4      710   969     0.732714"
      ]
     },
     "execution_count": 19,
     "metadata": {},
     "output_type": "execute_result"
    }
   ],
   "source": [
    "# Bucketing users\n",
    "import hashlib\n",
    "\n",
    "tmp_agg['bucket'] = tmp_agg['user_id'].apply(\n",
    "    lambda x: int(hashlib.md5((str(x) + 'bbb').encode()).hexdigest(), 16) % 100\n",
    ")\n",
    "\n",
    "tmp_agg['view'] = 1\n",
    "\n",
    "new_df = (\n",
    "    tmp_agg\n",
    "    .drop(columns=['timestamp_x', 'user_id' ])\n",
    "    .groupby(['exp_group', 'bucket'])\n",
    "    .sum(['hitrate', 'view'])\n",
    "    .reset_index()\n",
    ")\n",
    "new_df['hitrate_new'] = new_df.hitrate / new_df.view\n",
    "\n",
    "new_df.head()"
   ]
  },
  {
   "cell_type": "code",
   "execution_count": 20,
   "metadata": {},
   "outputs": [
    {
     "data": {
      "text/plain": [
       "exp_group\n",
       "control    0.706651\n",
       "test       0.719829\n",
       "Name: hitrate, dtype: float64"
      ]
     },
     "execution_count": 20,
     "metadata": {},
     "output_type": "execute_result"
    }
   ],
   "source": [
    "tmp_agg.groupby('exp_group').hitrate.mean()"
   ]
  },
  {
   "cell_type": "code",
   "execution_count": 21,
   "metadata": {},
   "outputs": [
    {
     "data": {
      "text/plain": [
       "MannwhitneyuResult(statistic=2474.0, pvalue=6.795052834951048e-10)"
      ]
     },
     "execution_count": 21,
     "metadata": {},
     "output_type": "execute_result"
    }
   ],
   "source": [
    "from scipy.stats import mannwhitneyu, ttest_ind\n",
    "\n",
    "mannwhitneyu(\n",
    "    new_df[new_df.exp_group == 'control'].hitrate_new,\n",
    "    new_df[new_df.exp_group == 'test'].hitrate_new,\n",
    ")"
   ]
  },
  {
   "cell_type": "code",
   "execution_count": 22,
   "metadata": {},
   "outputs": [
    {
     "data": {
      "text/plain": [
       "Ttest_indResult(statistic=-6.283293948472979, pvalue=2.0664050599155474e-09)"
      ]
     },
     "execution_count": 22,
     "metadata": {},
     "output_type": "execute_result"
    }
   ],
   "source": [
    "ttest_ind(\n",
    "    new_df[new_df.exp_group == 'control'].hitrate_new,\n",
    "    new_df[new_df.exp_group == 'test'].hitrate_new,\n",
    ")"
   ]
  },
  {
   "cell_type": "markdown",
   "metadata": {},
   "source": [
    "Null hypothesis of mean hitrates equality is rejected! Change is statistically significant!"
   ]
  }
 ],
 "metadata": {
  "kernelspec": {
   "display_name": "Python 3",
   "language": "python",
   "name": "python3"
  },
  "language_info": {
   "codemirror_mode": {
    "name": "ipython",
    "version": 3
   },
   "file_extension": ".py",
   "mimetype": "text/x-python",
   "name": "python",
   "nbconvert_exporter": "python",
   "pygments_lexer": "ipython3",
   "version": "3.10.5"
  },
  "orig_nbformat": 4,
  "vscode": {
   "interpreter": {
    "hash": "13a6bab5aa7a42c9de985e2bd7ef091596b396c4d5464faf56dce47736f84832"
   }
  }
 },
 "nbformat": 4,
 "nbformat_minor": 2
}
