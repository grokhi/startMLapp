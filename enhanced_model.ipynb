{
 "cells": [
  {
   "cell_type": "markdown",
   "id": "1cf2fa18",
   "metadata": {},
   "source": [
    "# Enhanced model for recommendation system"
   ]
  },
  {
   "cell_type": "markdown",
   "id": "e4873b76",
   "metadata": {},
   "source": [
    "Outline:\n",
    "1. Database connection. Data preprocessing. #postgresql\n",
    "2. Feature extraction from unlabeled text. \n",
    "\n",
    "    2.1 Extract and handle BERT embeddings #bert \n",
    "\n",
    "    2.2 Clusterize embeddings #pca #kmeans #dec #nlpaugmentation (TODO: #idec)\n",
    "3. Model training and evaluating #catboost\n",
    "\n",
    "    3.1 Default catboost\n",
    "\n",
    "    3.2 TODO: Tuned catboost\n",
    "4. Model saving and feature uploading to server"
   ]
  },
  {
   "cell_type": "markdown",
   "id": "f1da7d1b",
   "metadata": {},
   "source": [
    "Intro:\n",
    "\n",
    "Recently I found an interesting [paper by Subakti et al. (2022)](https://journalofbigdata.springeropen.com/articles/10.1186/s40537-022-00564-9), which relates to the problem of BERT embeddings clusterization. In paper, there are several proposed strategies: proper BERT embeddings handling (pooling&normalization) combined with different techniques, such as KMeans, DEC (Deep Embedded Clustering), IDEC (Improved DEC), fuzzy C-Means. I tried to play with DEC&IDEC because they had the best performance (see Subakti's paper). Unfortunately, there was no acceptable pytorch implementation, so I rewrote existing solutions and applied rewritten DEC and IDEC for current task. *See [my DEC/IDEC_mnist repo](https://github.com/grokhi/pytorch_DEC_IDEC_2022) for details*"
   ]
  },
  {
   "cell_type": "markdown",
   "id": "386db316",
   "metadata": {},
   "source": [
    "tl;dr:\n",
    "- Deep Embedded Clustering (DEC) trained on augmented dataset showed 92% cluster accuracy (b/line kmeans 58%). Extracted features were used for catboost training\n",
    "- Unfortunately, default catboost model (.65) showed less ROC-AUC score than in base model (.67). Need to tune it\n",
    "- Tuned catboost results: #TODO.\n",
    "\n",
    "TODO: What's next? Obtained results from base_model and enhanced_model will be validated using scheduling A/B tests on a local server. #abtests #airflow #docker #postgresql *See [file-not-yet-ready] for details*"
   ]
  },
  {
   "cell_type": "markdown",
   "id": "f63a29f6",
   "metadata": {},
   "source": [
    "## 1. Connect to DB"
   ]
  },
  {
   "cell_type": "code",
   "execution_count": 2,
   "id": "ca419207",
   "metadata": {},
   "outputs": [],
   "source": [
    "import numpy as np\n",
    "import pandas as pd\n",
    "\n",
    "import matplotlib.pyplot as plt\n",
    "import seaborn as sns\n",
    "\n",
    "CONN = \"postgresql://robot-startml-ro:pheiph0hahj1Vaif@\"\\\n",
    "    \"postgres.lab.karpov.courses:6432/startml\""
   ]
  },
  {
   "cell_type": "code",
   "execution_count": 3,
   "id": "31fc2cc8",
   "metadata": {},
   "outputs": [
    {
     "name": "stdout",
     "output_type": "stream",
     "text": [
      "(163205, 8)\n"
     ]
    },
    {
     "data": {
      "text/html": [
       "<div>\n",
       "<style scoped>\n",
       "    .dataframe tbody tr th:only-of-type {\n",
       "        vertical-align: middle;\n",
       "    }\n",
       "\n",
       "    .dataframe tbody tr th {\n",
       "        vertical-align: top;\n",
       "    }\n",
       "\n",
       "    .dataframe thead th {\n",
       "        text-align: right;\n",
       "    }\n",
       "</style>\n",
       "<table border=\"1\" class=\"dataframe\">\n",
       "  <thead>\n",
       "    <tr style=\"text-align: right;\">\n",
       "      <th></th>\n",
       "      <th>user_id</th>\n",
       "      <th>gender</th>\n",
       "      <th>age</th>\n",
       "      <th>country</th>\n",
       "      <th>city</th>\n",
       "      <th>exp_group</th>\n",
       "      <th>os</th>\n",
       "      <th>source</th>\n",
       "    </tr>\n",
       "  </thead>\n",
       "  <tbody>\n",
       "    <tr>\n",
       "      <th>107715</th>\n",
       "      <td>113045</td>\n",
       "      <td>1</td>\n",
       "      <td>29</td>\n",
       "      <td>Russia</td>\n",
       "      <td>Volkhov</td>\n",
       "      <td>4</td>\n",
       "      <td>Android</td>\n",
       "      <td>organic</td>\n",
       "    </tr>\n",
       "    <tr>\n",
       "      <th>82279</th>\n",
       "      <td>86188</td>\n",
       "      <td>0</td>\n",
       "      <td>18</td>\n",
       "      <td>Russia</td>\n",
       "      <td>Astrakhan</td>\n",
       "      <td>2</td>\n",
       "      <td>Android</td>\n",
       "      <td>ads</td>\n",
       "    </tr>\n",
       "    <tr>\n",
       "      <th>17333</th>\n",
       "      <td>17543</td>\n",
       "      <td>1</td>\n",
       "      <td>19</td>\n",
       "      <td>Russia</td>\n",
       "      <td>Samara</td>\n",
       "      <td>4</td>\n",
       "      <td>Android</td>\n",
       "      <td>ads</td>\n",
       "    </tr>\n",
       "    <tr>\n",
       "      <th>133203</th>\n",
       "      <td>138532</td>\n",
       "      <td>1</td>\n",
       "      <td>33</td>\n",
       "      <td>Russia</td>\n",
       "      <td>Krasnogorsk</td>\n",
       "      <td>4</td>\n",
       "      <td>Android</td>\n",
       "      <td>organic</td>\n",
       "    </tr>\n",
       "    <tr>\n",
       "      <th>158839</th>\n",
       "      <td>164184</td>\n",
       "      <td>1</td>\n",
       "      <td>22</td>\n",
       "      <td>Russia</td>\n",
       "      <td>Penza</td>\n",
       "      <td>0</td>\n",
       "      <td>Android</td>\n",
       "      <td>organic</td>\n",
       "    </tr>\n",
       "  </tbody>\n",
       "</table>\n",
       "</div>"
      ],
      "text/plain": [
       "        user_id  gender  age country         city  exp_group       os   source\n",
       "107715   113045       1   29  Russia      Volkhov          4  Android  organic\n",
       "82279     86188       0   18  Russia    Astrakhan          2  Android      ads\n",
       "17333     17543       1   19  Russia       Samara          4  Android      ads\n",
       "133203   138532       1   33  Russia  Krasnogorsk          4  Android  organic\n",
       "158839   164184       1   22  Russia        Penza          0  Android  organic"
      ]
     },
     "execution_count": 3,
     "metadata": {},
     "output_type": "execute_result"
    }
   ],
   "source": [
    "# User data\n",
    "\n",
    "user_info = pd.read_sql(\n",
    "    \"\"\"SELECT * FROM public.user_data\"\"\",\n",
    "    con=CONN\n",
    ")\n",
    "\n",
    "# user_info = pd.read_csv('data/user_info.csv', index_col=0)\n",
    "print(user_info.shape)\n",
    "user_info.sample(5)"
   ]
  },
  {
   "cell_type": "code",
   "execution_count": 4,
   "id": "92d91cd5",
   "metadata": {},
   "outputs": [
    {
     "name": "stdout",
     "output_type": "stream",
     "text": [
      "(7023, 3)\n"
     ]
    },
    {
     "data": {
      "text/html": [
       "<div>\n",
       "<style scoped>\n",
       "    .dataframe tbody tr th:only-of-type {\n",
       "        vertical-align: middle;\n",
       "    }\n",
       "\n",
       "    .dataframe tbody tr th {\n",
       "        vertical-align: top;\n",
       "    }\n",
       "\n",
       "    .dataframe thead th {\n",
       "        text-align: right;\n",
       "    }\n",
       "</style>\n",
       "<table border=\"1\" class=\"dataframe\">\n",
       "  <thead>\n",
       "    <tr style=\"text-align: right;\">\n",
       "      <th></th>\n",
       "      <th>post_id</th>\n",
       "      <th>text</th>\n",
       "      <th>topic</th>\n",
       "    </tr>\n",
       "  </thead>\n",
       "  <tbody>\n",
       "    <tr>\n",
       "      <th>143</th>\n",
       "      <td>286</td>\n",
       "      <td>Air Jamaica back in state control\\n\\nThe Jamai...</td>\n",
       "      <td>business</td>\n",
       "    </tr>\n",
       "    <tr>\n",
       "      <th>1694</th>\n",
       "      <td>1381</td>\n",
       "      <td>Fuming Robinson blasts officials\\n\\nEngland co...</td>\n",
       "      <td>sport</td>\n",
       "    </tr>\n",
       "    <tr>\n",
       "      <th>1960</th>\n",
       "      <td>1604</td>\n",
       "      <td>Prutton poised for lengthy FA ban\\n\\nSouthampt...</td>\n",
       "      <td>sport</td>\n",
       "    </tr>\n",
       "    <tr>\n",
       "      <th>576</th>\n",
       "      <td>507</td>\n",
       "      <td>Deadline nears for Fiat-GM deal\\n\\nFiat and Ge...</td>\n",
       "      <td>business</td>\n",
       "    </tr>\n",
       "    <tr>\n",
       "      <th>5334</th>\n",
       "      <td>5553</td>\n",
       "      <td>The movie deserves 2/10. 1.5 stars for the gir...</td>\n",
       "      <td>movie</td>\n",
       "    </tr>\n",
       "  </tbody>\n",
       "</table>\n",
       "</div>"
      ],
      "text/plain": [
       "      post_id                                               text     topic\n",
       "143       286  Air Jamaica back in state control\\n\\nThe Jamai...  business\n",
       "1694     1381  Fuming Robinson blasts officials\\n\\nEngland co...     sport\n",
       "1960     1604  Prutton poised for lengthy FA ban\\n\\nSouthampt...     sport\n",
       "576       507  Deadline nears for Fiat-GM deal\\n\\nFiat and Ge...  business\n",
       "5334     5553  The movie deserves 2/10. 1.5 stars for the gir...     movie"
      ]
     },
     "execution_count": 4,
     "metadata": {},
     "output_type": "execute_result"
    }
   ],
   "source": [
    "# Posts and topics\n",
    "\n",
    "posts_info = pd.read_sql(\n",
    "    \"\"\"SELECT * FROM public.post_text_df\"\"\",\n",
    "    con=CONN\n",
    ")\n",
    "\n",
    "# posts_info = pd.read_csv('data/posts_info.csv', index_col=0)\n",
    "\n",
    "print(posts_info.shape)\n",
    "posts_info.sample(5)"
   ]
  },
  {
   "cell_type": "code",
   "execution_count": 5,
   "id": "f1cb383e",
   "metadata": {},
   "outputs": [
    {
     "name": "stdout",
     "output_type": "stream",
     "text": [
      "(894745, 5)\n"
     ]
    },
    {
     "data": {
      "text/html": [
       "<div>\n",
       "<style scoped>\n",
       "    .dataframe tbody tr th:only-of-type {\n",
       "        vertical-align: middle;\n",
       "    }\n",
       "\n",
       "    .dataframe tbody tr th {\n",
       "        vertical-align: top;\n",
       "    }\n",
       "\n",
       "    .dataframe thead th {\n",
       "        text-align: right;\n",
       "    }\n",
       "</style>\n",
       "<table border=\"1\" class=\"dataframe\">\n",
       "  <thead>\n",
       "    <tr style=\"text-align: right;\">\n",
       "      <th></th>\n",
       "      <th>timestamp</th>\n",
       "      <th>user_id</th>\n",
       "      <th>post_id</th>\n",
       "      <th>action</th>\n",
       "      <th>target</th>\n",
       "    </tr>\n",
       "  </thead>\n",
       "  <tbody>\n",
       "    <tr>\n",
       "      <th>900431</th>\n",
       "      <td>2021-10-16 19:06:22</td>\n",
       "      <td>118307</td>\n",
       "      <td>7135</td>\n",
       "      <td>view</td>\n",
       "      <td>1</td>\n",
       "    </tr>\n",
       "    <tr>\n",
       "      <th>324323</th>\n",
       "      <td>2021-11-22 09:18:04</td>\n",
       "      <td>124112</td>\n",
       "      <td>2577</td>\n",
       "      <td>view</td>\n",
       "      <td>0</td>\n",
       "    </tr>\n",
       "    <tr>\n",
       "      <th>387505</th>\n",
       "      <td>2021-12-03 13:37:06</td>\n",
       "      <td>150700</td>\n",
       "      <td>4015</td>\n",
       "      <td>view</td>\n",
       "      <td>0</td>\n",
       "    </tr>\n",
       "    <tr>\n",
       "      <th>444046</th>\n",
       "      <td>2021-12-10 13:06:41</td>\n",
       "      <td>54750</td>\n",
       "      <td>1354</td>\n",
       "      <td>view</td>\n",
       "      <td>0</td>\n",
       "    </tr>\n",
       "    <tr>\n",
       "      <th>898151</th>\n",
       "      <td>2021-10-05 07:55:40</td>\n",
       "      <td>54870</td>\n",
       "      <td>5274</td>\n",
       "      <td>view</td>\n",
       "      <td>0</td>\n",
       "    </tr>\n",
       "  </tbody>\n",
       "</table>\n",
       "</div>"
      ],
      "text/plain": [
       "                 timestamp  user_id  post_id action  target\n",
       "900431 2021-10-16 19:06:22   118307     7135   view       1\n",
       "324323 2021-11-22 09:18:04   124112     2577   view       0\n",
       "387505 2021-12-03 13:37:06   150700     4015   view       0\n",
       "444046 2021-12-10 13:06:41    54750     1354   view       0\n",
       "898151 2021-10-05 07:55:40    54870     5274   view       0"
      ]
     },
     "execution_count": 5,
     "metadata": {},
     "output_type": "execute_result"
    }
   ],
   "source": [
    "\n",
    "feed_data = pd.read_sql(\n",
    "    \"\"\"SELECT * FROM public.feed_data LIMIT 1000000\"\"\",\n",
    "    con=CONN\n",
    ")\n",
    "\n",
    "# feed_data = pd.read_csv('data/feed_data.csv', index_col=0)\n",
    "\n",
    "# remove likes\n",
    "feed_data = feed_data[feed_data.action == 'view']\n",
    "\n",
    "print(feed_data.shape)\n",
    "feed_data.sample(5)"
   ]
  },
  {
   "cell_type": "markdown",
   "id": "cb15187f",
   "metadata": {},
   "source": [
    "# 2. Feature preprocessing"
   ]
  },
  {
   "cell_type": "markdown",
   "id": "95155bb7",
   "metadata": {},
   "source": [
    "## 2.1 posts_info.text feature extraction using BERT"
   ]
  },
  {
   "cell_type": "markdown",
   "id": "fbdf11e1",
   "metadata": {},
   "source": [
    "### 2.1a Getting BERT embeddings"
   ]
  },
  {
   "cell_type": "code",
   "execution_count": 6,
   "id": "3e847c95",
   "metadata": {},
   "outputs": [],
   "source": [
    "# let's map text to embedding\n",
    "from transformers import AutoTokenizer\n",
    "# https://huggingface.co/docs/transformers/model_doc/bert#transformers.BertModel\n",
    "from transformers import BertModel\n",
    "\n",
    "\n",
    "def get_model(model_name):\n",
    "    assert model_name in ['bert_cased','bert_uncased',]\n",
    "\n",
    "    checkpoint_names = {\n",
    "        'bert_cased': 'bert-base-cased',  # https://huggingface.co/bert-base-cased\n",
    "        'bert_uncased': 'bert-base-uncased',  # https://huggingface.co/bert-base-uncased\n",
    "    }\n",
    "\n",
    "    model_classes = {\n",
    "        'bert_cased': BertModel,\n",
    "        'bert_uncased': BertModel,\n",
    "    }\n",
    "\n",
    "    return (\n",
    "        AutoTokenizer.from_pretrained(checkpoint_names[model_name]),\n",
    "        model_classes[model_name].from_pretrained(checkpoint_names[model_name])\n",
    "    )\n"
   ]
  },
  {
   "cell_type": "code",
   "execution_count": 7,
   "id": "778d2295",
   "metadata": {},
   "outputs": [],
   "source": [
    "from torch.utils.data import Dataset\n",
    "from torch.utils.data import DataLoader\n",
    "from transformers import DataCollatorWithPadding\n",
    "\n",
    "\n",
    "class PostDataset(Dataset):\n",
    "    def __init__(self, texts, tokenizer):\n",
    "        super().__init__()\n",
    "\n",
    "        self.texts = tokenizer.batch_encode_plus(\n",
    "            texts,\n",
    "            add_special_tokens=True,\n",
    "            return_token_type_ids=False,\n",
    "            max_length=512,\n",
    "            return_tensors='pt',\n",
    "            truncation=True,\n",
    "            padding=True\n",
    "        )\n",
    "        self.tokenizer = tokenizer\n",
    "\n",
    "    def __getitem__(self, idx):\n",
    "        return {'input_ids': self.texts['input_ids'][idx], 'attention_mask': self.texts['attention_mask'][idx]}\n",
    "\n",
    "    def __len__(self):\n",
    "        return len(self.texts['input_ids'])\n",
    "\n",
    "\n",
    "def reload(values, tokenizer):\n",
    "    dataset = PostDataset(values.tolist(), tokenizer)\n",
    "\n",
    "    data_collator = DataCollatorWithPadding(tokenizer=tokenizer)\n",
    "\n",
    "    loader = DataLoader(dataset, batch_size=32,\n",
    "                        collate_fn=data_collator, pin_memory=True, shuffle=False)\n",
    "\n",
    "    return (\n",
    "        dataset, data_collator, loader\n",
    "    )\n"
   ]
  },
  {
   "cell_type": "code",
   "execution_count": 8,
   "id": "02d66355",
   "metadata": {},
   "outputs": [],
   "source": [
    "import torch\n",
    "from tqdm import tqdm\n",
    "\n",
    "\n",
    "@torch.inference_mode()\n",
    "def get_embeddings_labels(model, loader, device):  \n",
    "    model.eval()\n",
    "    model.to(device)\n",
    " \n",
    "    total_embeddings = []\n",
    "\n",
    "    for batch in tqdm(loader):\n",
    "        batch = {key: batch[key].to(device)\n",
    "                 for key in ['attention_mask', 'input_ids']}\n",
    "\n",
    "        embeddings = model(**batch)['last_hidden_state'][:, :25, :] #as in paper Subakti (2022)\n",
    "\n",
    "        total_embeddings.append(embeddings.cpu())\n",
    "\n",
    "    return torch.cat(total_embeddings, dim=0)\n"
   ]
  },
  {
   "cell_type": "code",
   "execution_count": 9,
   "id": "3fadbfa4",
   "metadata": {},
   "outputs": [
    {
     "name": "stderr",
     "output_type": "stream",
     "text": [
      "Some weights of the model checkpoint at bert-base-uncased were not used when initializing BertModel: ['cls.predictions.transform.LayerNorm.weight', 'cls.predictions.transform.LayerNorm.bias', 'cls.predictions.transform.dense.weight', 'cls.predictions.decoder.weight', 'cls.seq_relationship.weight', 'cls.seq_relationship.bias', 'cls.predictions.bias', 'cls.predictions.transform.dense.bias']\n",
      "- This IS expected if you are initializing BertModel from the checkpoint of a model trained on another task or with another architecture (e.g. initializing a BertForSequenceClassification model from a BertForPreTraining model).\n",
      "- This IS NOT expected if you are initializing BertModel from the checkpoint of a model that you expect to be exactly identical (initializing a BertForSequenceClassification model from a BertForSequenceClassification model).\n"
     ]
    }
   ],
   "source": [
    "tokenizer, model = get_model('bert_uncased')\n",
    "\n",
    "dataset, data_collator, loader = reload(posts_info['text'].values, tokenizer)"
   ]
  },
  {
   "cell_type": "code",
   "execution_count": 10,
   "id": "71b079fd",
   "metadata": {},
   "outputs": [
    {
     "name": "stdout",
     "output_type": "stream",
     "text": [
      "cuda:0\n",
      "NVIDIA GeForce GTX 1060 with Max-Q Design\n"
     ]
    }
   ],
   "source": [
    "device = torch.device('cuda:0' if torch.cuda.is_available() else 'cpu')\n",
    "\n",
    "print(device)\n",
    "print(torch.cuda.get_device_name())\n",
    "\n",
    "model = model.to(device)"
   ]
  },
  {
   "cell_type": "code",
   "execution_count": 10,
   "id": "5f756f26",
   "metadata": {},
   "outputs": [
    {
     "name": "stderr",
     "output_type": "stream",
     "text": [
      "100%|██████████| 220/220 [09:09<00:00,  2.50s/it]\n"
     ]
    },
    {
     "data": {
      "text/plain": [
       "torch.Size([7023, 25, 768])"
      ]
     },
     "execution_count": 10,
     "metadata": {},
     "output_type": "execute_result"
    }
   ],
   "source": [
    "embeddings = get_embeddings_labels(model, loader, device)\n",
    "\n",
    "embeddings.shape"
   ]
  },
  {
   "cell_type": "code",
   "execution_count": 18,
   "id": "fe6faa32",
   "metadata": {},
   "outputs": [],
   "source": [
    "# save text and mapped numeric labels\n",
    "map_dict = {topic: i for i, topic in enumerate(pd.Series(posts_info.topic.values).value_counts().index.sort_values())}\n",
    "emb_num_labels = np.vectorize(map_dict.get)(posts_info.topic.values)\n",
    "\n",
    "# np.save('bert_embeddings/embeddings_full.npy', embeddings)\n",
    "# np.save('bert_embeddings/emb_txt_labels.npy', posts_info.topic.values)\n",
    "# np.save('bert_embeddings/emb_num_labels.npy', emb_num_labels)"
   ]
  },
  {
   "cell_type": "markdown",
   "id": "db026b5f",
   "metadata": {},
   "source": [
    "### 2.1b Feature extraction"
   ]
  },
  {
   "cell_type": "markdown",
   "id": "ea674320",
   "metadata": {},
   "source": [
    "According to Subakti (2022), different strategies of pooling and normalization may be appliable to the BERT outputs."
   ]
  },
  {
   "cell_type": "markdown",
   "id": "53869c00",
   "metadata": {},
   "source": [
    "Pooling:"
   ]
  },
  {
   "cell_type": "code",
   "execution_count": 11,
   "id": "b7ce41e9",
   "metadata": {},
   "outputs": [],
   "source": [
    "def pool_by_tokens(tensor:torch.Tensor, method:str):\n",
    "    assert method in ['max_pooling', 'mean_pooling']\n",
    "    _dict = {\n",
    "        'max_pooling' : lambda tensor: torch.max(tensor, dim=1)[0],\n",
    "        'mean_pooling' : lambda tensor: torch.mean(tensor, dim=1)\n",
    "    }\n",
    "    return _dict[method](tensor).numpy()\n",
    "    "
   ]
  },
  {
   "cell_type": "markdown",
   "id": "992af24d",
   "metadata": {},
   "source": [
    "Normalization:"
   ]
  },
  {
   "cell_type": "code",
   "execution_count": 12,
   "id": "e460f0d6",
   "metadata": {},
   "outputs": [],
   "source": [
    "def normalization(array, method):\n",
    "    assert method in ['identity', 'standard', 'layer', 'minmax']\n",
    "    axis = 0\n",
    "    _dict = {\n",
    "        'identity' : lambda x: x,\n",
    "        'standard' : lambda x: x / np.linalg.norm(x, axis=0),\n",
    "        'layer' : lambda x: (x - x.mean(axis)) / x.std(axis),\n",
    "        'minmax' : lambda x: (x - x.min(axis)) / (x.max(axis) - x.min(axis))\n",
    "    }\n",
    "    return _dict[method](array)"
   ]
  },
  {
   "cell_type": "code",
   "execution_count": null,
   "id": "dab172d7",
   "metadata": {},
   "outputs": [],
   "source": [
    "# Getting dictionary with different combinations of extracted embeddings\n",
    "embdict = {}\n",
    "for pooling in ['max_pooling', 'mean_pooling']:\n",
    "    array = pool_by_tokens(embeddings, pooling)\n",
    "    for norm_method in ['identity', 'standard', 'layer', 'minmax' ]:\n",
    "        embdict[pooling+'__'+norm_method] = normalization(array, norm_method)\n",
    "\n",
    "np.save('bert_embeddings/embdict.npy', embdict)\n",
    "# np.save('bert_embeddings/emb_meanpooling_layer.npy', embdict['mean_pooling__layer'])\n",
    "np.save('bert_embeddings/emb_maxpooling_layer.npy', embdict['mean_pooling__layer'])\n",
    "embdict.keys()        "
   ]
  },
  {
   "cell_type": "markdown",
   "id": "102ed8ab",
   "metadata": {},
   "source": [
    "According to my tests (*see DEC_BERT_embeddings.ipynb*), only 'layer normalization' (a.k.a. StandardScaler()) allows for smooth learning curve with the best behavior (high metrics + stable learning&performance curves)"
   ]
  },
  {
   "cell_type": "code",
   "execution_count": 15,
   "id": "bb7ccd42",
   "metadata": {},
   "outputs": [
    {
     "data": {
      "text/plain": [
       "(7023, 768)"
      ]
     },
     "execution_count": 15,
     "metadata": {},
     "output_type": "execute_result"
    }
   ],
   "source": [
    "# embdict = np.load('bert_embeddings/embdict.npy', allow_pickle=True).item()\n",
    "\n",
    "# we derived that version as the best \n",
    "embeddings = embdict['mean_pooling__layer'] \n",
    "\n",
    "# possible alternative to 'mean_pooling__layer'\n",
    "# embeddings = embdict['max_pooling__layer'] \n",
    "\n",
    "embeddings.shape"
   ]
  },
  {
   "cell_type": "markdown",
   "id": "02603542",
   "metadata": {},
   "source": [
    "## 2.2 Applying different clusterization tecchniques (PCA, KMeans, DEC, DEC-aug)"
   ]
  },
  {
   "cell_type": "code",
   "execution_count": 12,
   "id": "03ac38c7",
   "metadata": {},
   "outputs": [],
   "source": [
    "# evaluate cluster accuracy using hungarian algorithm (finds most accurate combination b2n true and predicted labels)\n",
    "from dec.utils import cluster_acc\n"
   ]
  },
  {
   "cell_type": "code",
   "execution_count": 14,
   "id": "0c282934",
   "metadata": {},
   "outputs": [],
   "source": [
    "# embeddings = torch.Tensor(\n",
    "#     np.load('bert_embeddings\\emb_meanpooling_layer.npy', allow_pickle=True)\n",
    "# )\n"
   ]
  },
  {
   "cell_type": "code",
   "execution_count": 37,
   "id": "9bb0b367",
   "metadata": {},
   "outputs": [],
   "source": [
    "# funcs for vizualization\n",
    "import umap.umap_ as umap\n",
    "from sklearn.preprocessing import StandardScaler\n",
    "\n",
    "def umap_reduce(arr):\n",
    "    reducer = umap.UMAP()\n",
    "\n",
    "    scaled = StandardScaler().fit_transform(arr)\n",
    "\n",
    "    _umap = reducer.fit_transform(scaled)\n",
    "\n",
    "    return pd.DataFrame({'x': _umap[:, 0], 'y': _umap[:, 1]})\n",
    "\n",
    "def plot_labels(umap_df, legend:str, labeltext:bool=False):\n",
    "    cmap = plt.cm.Set1\n",
    "    norm = plt.Normalize(umap_df['label'].values.min(),\n",
    "                        umap_df['label'].values.max())\n",
    "\n",
    "    size = 10\n",
    "\n",
    "    if labeltext:\n",
    "        grouped=umap_df.groupby(\"labeltext\")\n",
    "    else:\n",
    "        grouped=umap_df.groupby(\"label\")\n",
    "\n",
    "    for i, dff in grouped:\n",
    "        plt.scatter(dff['x'], dff['y'], s=size, c=cmap(norm(dff['label'])),\n",
    "                    edgecolors='none', label=f'{legend} {i}')\n",
    "\n",
    "umap_df = umap_reduce(embeddings)"
   ]
  },
  {
   "cell_type": "markdown",
   "id": "95020815",
   "metadata": {},
   "source": [
    "### 2.2a Removing noise from BERT embeddings using PCA decomposition"
   ]
  },
  {
   "cell_type": "markdown",
   "id": "4356485a",
   "metadata": {},
   "source": [
    "Rule of thumb: taking *n_components* that capture 90% of variance to reduce noise"
   ]
  },
  {
   "cell_type": "code",
   "execution_count": 16,
   "id": "90c83888",
   "metadata": {},
   "outputs": [
    {
     "name": "stdout",
     "output_type": "stream",
     "text": [
      "n_components = 257\n"
     ]
    }
   ],
   "source": [
    "from sklearn.decomposition import PCA\n",
    "pca = PCA(n_components=.9, svd_solver='full') \n",
    "# +3%\n",
    "\n",
    "centered = embeddings - embeddings.mean()\n",
    "pca_decomp = pca.fit_transform(centered)\n",
    "\n",
    "print('n_components =', pca_decomp.shape[1])"
   ]
  },
  {
   "cell_type": "markdown",
   "id": "680cb303",
   "metadata": {},
   "source": [
    "### 2.2b Use KMeans clustering and visualize it (both w/ PCA) using UMAP projection"
   ]
  },
  {
   "cell_type": "code",
   "execution_count": 47,
   "id": "8d06a6ea",
   "metadata": {},
   "outputs": [
    {
     "data": {
      "image/png": "[encoded data removed]",
      "text/plain": [
       "<Figure size 864x432 with 1 Axes>"
      ]
     },
     "metadata": {},
     "output_type": "display_data"
    }
   ],
   "source": [
    "from sklearn.cluster import KMeans\n",
    "\n",
    "kmeans = KMeans(n_clusters=7, random_state=0, n_init=20).fit(embeddings)\n",
    "posts_info['KMeansTextCluster'] = kmeans.labels_\n",
    "umap_df['label'] = kmeans.labels_ \n",
    "\n",
    "cl_acc = round(cluster_acc(emb_num_labels, kmeans.labels_), 3)\n",
    "\n",
    "kmeans_pca = KMeans(n_clusters=7, random_state=0, n_init=20).fit(pca_decomp)\n",
    "umap_df['label'] = kmeans_pca.labels_ \n",
    "cl_acc_pca = round(cluster_acc(emb_num_labels, kmeans_pca.labels_), 3)\n",
    "\n",
    "sns.set(style='white', context='notebook', rc={'figure.figsize': (12, 6)})\n",
    "plt.title(f'UMAP projection of BERT embeddings with KMEANS clustering.\\nCluster acc={cl_acc} ({cl_acc_pca} with pca denoising)')\n",
    "\n",
    "plot_labels(umap_df, legend='KMeans label')\n",
    "\n",
    "plt.legend(markerscale=2)\n",
    "plt.show()"
   ]
  },
  {
   "cell_type": "markdown",
   "id": "5ae8b0fa",
   "metadata": {},
   "source": [
    "PCA denoising not making a big deal."
   ]
  },
  {
   "cell_type": "markdown",
   "id": "592c1bb8",
   "metadata": {},
   "source": [
    "### 2.2c DEC/IDEC predictions (trained on original dataset n=7K)"
   ]
  },
  {
   "cell_type": "markdown",
   "id": "50de3606",
   "metadata": {},
   "source": [
    "In simple words, DEC is a trained fully-connected encoder with additional learning of KMeans centroids on kullback–leibler (KL) divergence. In theory (see my github mnist example), additional tuning of trained distribution should give 5-10% performance increase. In practice (see DEC_BERT_embeddings.ipynb), almost all increase in performance caused by trained encoder - it's very complicate to make KL loss work (some requirements on the dataset must be fullfilled). However, Training DEC on KL loss allows to catch additional precentages of performance. IDEC makes an imporvement by considering reconstruction MSE loss both with clustering KL loss. In some cases, such addition helps to prevent rapid performance curve decaying."
   ]
  },
  {
   "cell_type": "markdown",
   "id": "770e56f5",
   "metadata": {},
   "source": [
    "![DEC network arhitecture](dec.png)"
   ]
  },
  {
   "cell_type": "code",
   "execution_count": 69,
   "id": "ba5d6295",
   "metadata": {},
   "outputs": [
    {
     "data": {
      "text/plain": [
       "dict_keys(['accuracy', 'predicted', 'features'])"
      ]
     },
     "execution_count": 69,
     "metadata": {},
     "output_type": "execute_result"
    }
   ],
   "source": [
    "dec_dct = np.load('dec\\predictions\\dec_results_dict.npy', allow_pickle=True).item()\n",
    "dec_labeltext = np.load('dec\\predictions\\dec_textcluster.npy')\n",
    "\n",
    "dec_dct.keys()"
   ]
  },
  {
   "cell_type": "code",
   "execution_count": 68,
   "id": "354092d0",
   "metadata": {},
   "outputs": [
    {
     "data": {
      "image/png": "[encoded data removed]",
      "text/plain": [
       "<Figure size 864x432 with 1 Axes>"
      ]
     },
     "metadata": {},
     "output_type": "display_data"
    }
   ],
   "source": [
    "posts_info['DECTextCluster'] = dec_dct['predicted']\n",
    "umap_df['label'] = dec_dct['predicted']\n",
    "umap_df['labeltext'] = dec_labeltext\n",
    "\n",
    "cl_acc = round(cluster_acc(emb_num_labels, dec_dct['predicted']), 3)\n",
    "\n",
    "sns.set(style='white', context='notebook', rc={'figure.figsize': (12, 6)})\n",
    "plt.title(f'UMAP projection of BERT embeddings with DEC trained on original dataset. Cluster acc={cl_acc}')\n",
    "\n",
    "plot_labels(umap_df, legend='DEC', labeltext=True)\n",
    "\n",
    "plt.legend(markerscale=2)\n",
    "plt.show()"
   ]
  },
  {
   "cell_type": "code",
   "execution_count": 70,
   "id": "008cf5b5",
   "metadata": {},
   "outputs": [
    {
     "data": {
      "text/plain": [
       "0.8106222412074612"
      ]
     },
     "execution_count": 70,
     "metadata": {},
     "output_type": "execute_result"
    }
   ],
   "source": [
    "# sanity check\n",
    "matched, total = 0, 0\n",
    "for true, pred in zip(posts_info.topic.values, dec_labeltext):\n",
    "    if true==pred:\n",
    "        matched+=1\n",
    "    total+=1\n",
    "matched/total"
   ]
  },
  {
   "cell_type": "markdown",
   "id": "592c1bb8",
   "metadata": {},
   "source": [
    "### 2.2d DEC/IDEC aug predictions (trained on augmented dataset n=70K)"
   ]
  },
  {
   "cell_type": "markdown",
   "id": "3725b9bf",
   "metadata": {},
   "source": [
    "We managed to get +20% performance (comparing to baseline KMeans) only by using autoencoders for the purposes of clusterization (DEC/IDEC). Let's make one step further and try to learn DEC/IDEC on the augmented dataset. For this purpose, let's use back translation technique for every text item (using pretrained [BERT-multilingual-uncased](https://huggingface.co/bert-base-multilingual-uncased)) and increase the dataset size by 10 times. *See DatasetAugmentation.ipynb and Train_BERTembedaug.ipynb for details*"
   ]
  },
  {
   "cell_type": "code",
   "execution_count": 84,
   "id": "ba5d6295",
   "metadata": {},
   "outputs": [
    {
     "data": {
      "text/plain": [
       "dict_keys(['accuracy', 'predicted', 'features', 'reassignment_dict'])"
      ]
     },
     "execution_count": 84,
     "metadata": {},
     "output_type": "execute_result"
    }
   ],
   "source": [
    "idecaug_dct = np.load('dec_aug\\idec_results_dict.npy', allow_pickle=True).item()\n",
    "idecaug_labeltext = np.load('dec_aug\\idec_textcluster.npy')\n",
    "\n",
    "idecaug_dct.keys()"
   ]
  },
  {
   "cell_type": "code",
   "execution_count": 119,
   "id": "354092d0",
   "metadata": {},
   "outputs": [
    {
     "data": {
      "image/png": "[encoded data removed]",
      "text/plain": [
       "<Figure size 864x432 with 1 Axes>"
      ]
     },
     "metadata": {},
     "output_type": "display_data"
    }
   ],
   "source": [
    "posts_info['IDECaugTextCluster'] = idecaug_dct['predicted']\n",
    "umap_df['label'] = idecaug_dct['predicted']\n",
    "umap_df['labeltext'] = idecaug_labeltext\n",
    "\n",
    "cl_acc = round(cluster_acc(emb_num_labels, idecaug_dct['predicted']), 3)\n",
    "\n",
    "sns.set(style='white', context='notebook', rc={'figure.figsize': (12, 6)})\n",
    "plt.title(f'UMAP projection of BERT augmented embeddings with IDEC. Cluster acc={cl_acc}')\n",
    "\n",
    "plot_labels(umap_df, legend='IDECaug', labeltext=True)\n",
    "\n",
    "plt.legend(markerscale=2)\n",
    "plt.show()"
   ]
  },
  {
   "cell_type": "code",
   "execution_count": 86,
   "id": "c9e8d113",
   "metadata": {},
   "outputs": [
    {
     "data": {
      "text/plain": [
       "0.9320803075608715"
      ]
     },
     "execution_count": 86,
     "metadata": {},
     "output_type": "execute_result"
    }
   ],
   "source": [
    "# sanity check\n",
    "matched, total = 0, 0\n",
    "for true, pred in zip(posts_info.topic.values, idecaug_labeltext):\n",
    "    if true==pred:\n",
    "        matched+=1\n",
    "    total+=1\n",
    "matched/total"
   ]
  },
  {
   "cell_type": "markdown",
   "id": "bb99e1a4",
   "metadata": {},
   "source": [
    "Amazing! We managed to get +30% (!) increase in cluster accuracy only by training IDEC on augmented dataset"
   ]
  },
  {
   "cell_type": "markdown",
   "id": "4d1060cb",
   "metadata": {},
   "source": [
    "## 2.3 Merging features for enchanced model"
   ]
  },
  {
   "cell_type": "code",
   "execution_count": 134,
   "id": "1762f34f",
   "metadata": {},
   "outputs": [
    {
     "data": {
      "text/html": [
       "<div>\n",
       "<style scoped>\n",
       "    .dataframe tbody tr th:only-of-type {\n",
       "        vertical-align: middle;\n",
       "    }\n",
       "\n",
       "    .dataframe tbody tr th {\n",
       "        vertical-align: top;\n",
       "    }\n",
       "\n",
       "    .dataframe thead th {\n",
       "        text-align: right;\n",
       "    }\n",
       "</style>\n",
       "<table border=\"1\" class=\"dataframe\">\n",
       "  <thead>\n",
       "    <tr style=\"text-align: right;\">\n",
       "      <th></th>\n",
       "      <th>IDECFeature0</th>\n",
       "      <th>IDECFeature1</th>\n",
       "      <th>IDECFeature2</th>\n",
       "      <th>IDECFeature3</th>\n",
       "      <th>IDECFeature4</th>\n",
       "      <th>IDECFeature5</th>\n",
       "      <th>IDECFeature6</th>\n",
       "    </tr>\n",
       "  </thead>\n",
       "  <tbody>\n",
       "    <tr>\n",
       "      <th>2107</th>\n",
       "      <td>0.021973</td>\n",
       "      <td>0.006397</td>\n",
       "      <td>0.939439</td>\n",
       "      <td>0.008794</td>\n",
       "      <td>0.006943</td>\n",
       "      <td>0.009064</td>\n",
       "      <td>0.007391</td>\n",
       "    </tr>\n",
       "    <tr>\n",
       "      <th>5100</th>\n",
       "      <td>0.887644</td>\n",
       "      <td>0.011621</td>\n",
       "      <td>0.031694</td>\n",
       "      <td>0.015827</td>\n",
       "      <td>0.022380</td>\n",
       "      <td>0.019138</td>\n",
       "      <td>0.011697</td>\n",
       "    </tr>\n",
       "    <tr>\n",
       "      <th>3520</th>\n",
       "      <td>0.072368</td>\n",
       "      <td>0.023816</td>\n",
       "      <td>0.781896</td>\n",
       "      <td>0.029255</td>\n",
       "      <td>0.025603</td>\n",
       "      <td>0.034312</td>\n",
       "      <td>0.032749</td>\n",
       "    </tr>\n",
       "    <tr>\n",
       "      <th>2087</th>\n",
       "      <td>0.010721</td>\n",
       "      <td>0.008125</td>\n",
       "      <td>0.011303</td>\n",
       "      <td>0.005249</td>\n",
       "      <td>0.012112</td>\n",
       "      <td>0.012819</td>\n",
       "      <td>0.939672</td>\n",
       "    </tr>\n",
       "    <tr>\n",
       "      <th>556</th>\n",
       "      <td>0.086087</td>\n",
       "      <td>0.159029</td>\n",
       "      <td>0.090391</td>\n",
       "      <td>0.072142</td>\n",
       "      <td>0.056917</td>\n",
       "      <td>0.421232</td>\n",
       "      <td>0.114202</td>\n",
       "    </tr>\n",
       "  </tbody>\n",
       "</table>\n",
       "</div>"
      ],
      "text/plain": [
       "      IDECFeature0  IDECFeature1  IDECFeature2  IDECFeature3  IDECFeature4  \\\n",
       "2107      0.021973      0.006397      0.939439      0.008794      0.006943   \n",
       "5100      0.887644      0.011621      0.031694      0.015827      0.022380   \n",
       "3520      0.072368      0.023816      0.781896      0.029255      0.025603   \n",
       "2087      0.010721      0.008125      0.011303      0.005249      0.012112   \n",
       "556       0.086087      0.159029      0.090391      0.072142      0.056917   \n",
       "\n",
       "      IDECFeature5  IDECFeature6  \n",
       "2107      0.009064      0.007391  \n",
       "5100      0.019138      0.011697  \n",
       "3520      0.034312      0.032749  \n",
       "2087      0.012819      0.939672  \n",
       "556       0.421232      0.114202  "
      ]
     },
     "execution_count": 134,
     "metadata": {},
     "output_type": "execute_result"
    }
   ],
   "source": [
    "def get_features(method):\n",
    "    features = {\n",
    "        'kmeans': kmeans.transform(embeddings),\n",
    "        'dec' : dec_dct['features'],\n",
    "        'idec_aug' : idecaug_dct['features']\n",
    "    }\n",
    "\n",
    "    # data = methods[method](df) if method!=None else df\n",
    "\n",
    "    data = features[method]\n",
    "\n",
    "    if method=='dec':\n",
    "        columns = [f'DECFeature{i}' for i in range(data.shape[1])]\n",
    "    elif method=='idec_aug':\n",
    "        columns = [f'IDECFeature{i}' for i in range(data.shape[1])]\n",
    "        \n",
    "    elif method=='kmeans':\n",
    "        columns = [f\"DistanceTo{i}thCluster\" for i in range(0, data.shape[1])]\n",
    "\n",
    "    return pd.DataFrame(\n",
    "        data=data,\n",
    "        columns=columns\n",
    "    )\n",
    "\n",
    "text_features = get_features('idec_aug')\n",
    "\n",
    "text_features.sample(5)"
   ]
  },
  {
   "cell_type": "code",
   "execution_count": 135,
   "id": "a9b435fb",
   "metadata": {},
   "outputs": [
    {
     "data": {
      "image/png": "[encoded data removed]",
      "text/plain": [
       "<Figure size 777.6x604.8 with 7 Axes>"
      ]
     },
     "metadata": {},
     "output_type": "display_data"
    }
   ],
   "source": [
    "df_long = text_features.melt(var_name='Column', value_name='Value')\n",
    "\n",
    "sns.set_theme(style=\"white\", rc={\"axes.facecolor\": (0, 0, 0, 0), 'axes.linewidth':2})\n",
    "palette = sns.color_palette(\"Set3\", 12)\n",
    "g = sns.FacetGrid(df_long, palette=palette, row=\"Column\", hue=\"Column\", aspect=9, height=1.2)\n",
    "g.map_dataframe(sns.kdeplot, x=\"Value\", fill=True, alpha=1)\n",
    "g.map_dataframe(sns.kdeplot, x=\"Value\", color='black')\n",
    "def label(x, color, label):\n",
    "    ax = plt.gca()\n",
    "    ax.text(0, .2, label, color='black', fontsize=13,\n",
    "            ha=\"left\", va=\"center\", transform=ax.transAxes)\n",
    "    \n",
    "g.map(label, \"Value\")\n",
    "g.fig.subplots_adjust(hspace=-.5)\n",
    "g.set_titles(\"\")\n",
    "g.set(yticks=[], xlabel=\"Value\", ylabel='')\n",
    "g.despine( left=True)\n",
    "\n",
    "plt.suptitle('IDEC aug features', y=0.98)\n",
    "plt.show()"
   ]
  },
  {
   "cell_type": "code",
   "execution_count": 128,
   "id": "0a8b27f7",
   "metadata": {},
   "outputs": [
    {
     "name": "stdout",
     "output_type": "stream",
     "text": [
      "(894745, 18)\n"
     ]
    },
    {
     "data": {
      "text/plain": [
       "Index(['timestamp', 'target', 'IDECFeature0', 'IDECFeature1', 'IDECFeature2',\n",
       "       'IDECFeature3', 'IDECFeature4', 'IDECFeature5', 'IDECFeature6',\n",
       "       'gender', 'age', 'country', 'city', 'exp_group', 'os', 'source', 'hour',\n",
       "       'month'],\n",
       "      dtype='object')"
      ]
     },
     "execution_count": 128,
     "metadata": {},
     "output_type": "execute_result"
    }
   ],
   "source": [
    "def merge_tables(feat_df):\n",
    "    _posts_info = posts_info.join(feat_df)\n",
    "\n",
    "    df = pd.merge(\n",
    "        feed_data, _posts_info,\n",
    "        on='post_id', \n",
    "        how='left'\n",
    "    )\n",
    "\n",
    "    df = pd.merge(\n",
    "        df, user_info,\n",
    "        on='user_id',\n",
    "        how='left')\n",
    "\n",
    "    ### Extract addtional features from timestamp\n",
    "\n",
    "    df['hour'] = pd.to_datetime(df['timestamp']).apply(lambda x: x.hour)\n",
    "    df['month'] = pd.to_datetime(df['timestamp']).apply(lambda x: x.month)\n",
    "\n",
    "    ### remove unnescessary columns\n",
    "    df = df.drop([\n",
    "    #    'timestamp', \n",
    "        'action',\n",
    "        'text',\n",
    "        'topic', # because we do unsupervised learning\n",
    "        'KMeansTextCluster', 'DECTextCluster',\n",
    "       'IDECaugTextCluster',\n",
    "    ],  \n",
    "        axis=1)\n",
    "\n",
    "    return df.set_index(['user_id', 'post_id'])\n",
    "\n",
    "processed_df = merge_tables(text_features)\n",
    "print(processed_df.shape)\n",
    "processed_df.columns"
   ]
  },
  {
   "cell_type": "markdown",
   "id": "0aa22771",
   "metadata": {},
   "source": [
    "# 3. Model Training"
   ]
  },
  {
   "cell_type": "markdown",
   "id": "b91c01be",
   "metadata": {},
   "source": [
    "## 3.1 Default catboost"
   ]
  },
  {
   "cell_type": "code",
   "execution_count": 129,
   "id": "ad8c19f0",
   "metadata": {},
   "outputs": [
    {
     "data": {
      "text/plain": [
       "(Timestamp('2021-12-29 23:39:35'), Timestamp('2021-10-01 06:07:20'))"
      ]
     },
     "execution_count": 129,
     "metadata": {},
     "output_type": "execute_result"
    }
   ],
   "source": [
    "max(processed_df.timestamp), min(processed_df.timestamp)"
   ]
  },
  {
   "cell_type": "code",
   "execution_count": 130,
   "id": "ecb51ae8",
   "metadata": {},
   "outputs": [],
   "source": [
    "def prepare_data(df):\n",
    "    ### Split by 2021-12-15\n",
    "\n",
    "    df_train = df[df.timestamp < '2021-12-15']\n",
    "    df_test = df[df.timestamp >= '2021-12-15']\n",
    "\n",
    "    df_train = df_train.drop('timestamp', axis=1)\n",
    "    df_test = df_test.drop('timestamp', axis=1)\n",
    "\n",
    "    X_train = df_train.drop('target', axis=1)\n",
    "    X_test = df_test.drop('target', axis=1)\n",
    "\n",
    "    y_train = df_train['target']\n",
    "    y_test = df_test['target']\n",
    "\n",
    "    return X_train, y_train, X_test, y_test"
   ]
  },
  {
   "cell_type": "code",
   "execution_count": 131,
   "id": "4cad0dfa",
   "metadata": {},
   "outputs": [
    {
     "data": {
      "text/plain": [
       "<catboost.core.CatBoostClassifier at 0x276c0eea560>"
      ]
     },
     "execution_count": 131,
     "metadata": {},
     "output_type": "execute_result"
    }
   ],
   "source": [
    "### Default Catboost \n",
    "from catboost import CatBoostClassifier\n",
    "\n",
    "catboost_dec_aug = CatBoostClassifier(task_type='GPU')\n",
    "\n",
    "object_cols = [\n",
    "    'gender', 'country',\n",
    "    'city', 'exp_group', 'hour', 'month',\n",
    "    'os', 'source'\n",
    "]\n",
    "\n",
    "X_train, y_train, X_test, y_test = prepare_data(processed_df)\n",
    "\n",
    "catboost_dec_aug.fit(X_train, y_train, object_cols, verbose=False)"
   ]
  },
  {
   "cell_type": "code",
   "execution_count": 132,
   "id": "fa7b95e9",
   "metadata": {},
   "outputs": [
    {
     "name": "stdout",
     "output_type": "stream",
     "text": [
      "ROCAUC TRAIN: 0.6907799109488364\n",
      "ROCAUC TEST: 0.6566583876933578\n"
     ]
    }
   ],
   "source": [
    "from sklearn.metrics import roc_auc_score\n",
    "\n",
    "print(\n",
    "    f\"ROCAUC TRAIN: {roc_auc_score(y_train, catboost_dec_aug.predict_proba(X_train)[:, 1])}\")\n",
    "print(\n",
    "    f\"ROCAUC TEST: {roc_auc_score(y_test, catboost_dec_aug.predict_proba(X_test)[:, 1])}\")\n"
   ]
  },
  {
   "cell_type": "markdown",
   "id": "29cbaeea",
   "metadata": {},
   "source": [
    "Unfortunately, there is no increase in the final metrics even with our great text clusterization. Actually, simple PCA decomposition showed much better results than our sophisticated approach. KISS, huh? :-)"
   ]
  },
  {
   "cell_type": "code",
   "execution_count": 133,
   "id": "a0e75ba4",
   "metadata": {},
   "outputs": [
    {
     "data": {
      "image/png": "[encoded data removed]",
      "text/plain": [
       "<Figure size 720x576 with 1 Axes>"
      ]
     },
     "metadata": {},
     "output_type": "display_data"
    }
   ],
   "source": [
    "# feature_importance\n",
    "import seaborn as sns\n",
    "import numpy as np\n",
    "import matplotlib.pyplot as plt\n",
    "\n",
    "\n",
    "def plot_feature_importance(importance, names, model_type):\n",
    "\n",
    "    # Create arrays from feature importance and feature names\n",
    "    feature_importance = np.array(importance)[:20]\n",
    "    feature_names = np.array(names)[:20]\n",
    "\n",
    "    # Create a DataFrame using a Dictionary\n",
    "    data = {'feature_names': feature_names,\n",
    "            'feature_importance': feature_importance}\n",
    "    fi_df = pd.DataFrame(data)\n",
    "\n",
    "    # Sort the DataFrame in order decreasing feature importance\n",
    "    fi_df.sort_values(by=['feature_importance'], ascending=False, inplace=True)\n",
    "\n",
    "    # Define size of bar plot\n",
    "    plt.figure(figsize=(10, 8))\n",
    "    # Plot Searborn bar chart\n",
    "    sns.barplot(x=fi_df['feature_importance'], y=fi_df['feature_names'])\n",
    "    # Add chart labels\n",
    "    plt.title(model_type + 'FEATURE IMPORTANCE')\n",
    "    plt.xlabel('FEATURE IMPORTANCE')\n",
    "    plt.ylabel('FEATURE NAMES')\n",
    "\n",
    "\n",
    "plot_feature_importance(catboost_dec_aug.feature_importances_,\n",
    "                        X_train.columns, 'Catboost')\n"
   ]
  },
  {
   "cell_type": "markdown",
   "id": "25b62079",
   "metadata": {},
   "source": [
    "But we didn't tune our catboost yet! Maybe here is a key to a greater model performance?"
   ]
  },
  {
   "cell_type": "markdown",
   "id": "485c8493",
   "metadata": {},
   "source": [
    "## 3.2 Tuned catboost"
   ]
  },
  {
   "cell_type": "markdown",
   "id": "af3540f8",
   "metadata": {},
   "source": [
    "#TODO"
   ]
  },
  {
   "cell_type": "markdown",
   "id": "f3b4f6e5",
   "metadata": {},
   "source": [
    "# 4. Upload new fetures to the database"
   ]
  },
  {
   "cell_type": "code",
   "execution_count": 136,
   "id": "9cf15075",
   "metadata": {},
   "outputs": [
    {
     "data": {
      "text/plain": [
       "23"
      ]
     },
     "execution_count": 136,
     "metadata": {},
     "output_type": "execute_result"
    }
   ],
   "source": [
    "posts_info.to_sql(\n",
    "   \"grokhi_enhanced_model_posts_info_features\",\n",
    "    con=\"postgresql://robot-startml-ro:pheiph0hahj1Vaif@\"\n",
    "        \"postgres.lab.karpov.courses:6432/startml\",\n",
    "    schema=\"public\",\n",
    "    if_exists='replace'\n",
    "   )\n"
   ]
  },
  {
   "cell_type": "code",
   "execution_count": 137,
   "id": "9e44fa30",
   "metadata": {},
   "outputs": [
    {
     "data": {
      "text/html": [
       "<div>\n",
       "<style scoped>\n",
       "    .dataframe tbody tr th:only-of-type {\n",
       "        vertical-align: middle;\n",
       "    }\n",
       "\n",
       "    .dataframe tbody tr th {\n",
       "        vertical-align: top;\n",
       "    }\n",
       "\n",
       "    .dataframe thead th {\n",
       "        text-align: right;\n",
       "    }\n",
       "</style>\n",
       "<table border=\"1\" class=\"dataframe\">\n",
       "  <thead>\n",
       "    <tr style=\"text-align: right;\">\n",
       "      <th></th>\n",
       "      <th>index</th>\n",
       "      <th>post_id</th>\n",
       "      <th>text</th>\n",
       "      <th>topic</th>\n",
       "      <th>KMeansTextCluster</th>\n",
       "      <th>DECTextCluster</th>\n",
       "      <th>IDECaugTextCluster</th>\n",
       "    </tr>\n",
       "  </thead>\n",
       "  <tbody>\n",
       "    <tr>\n",
       "      <th>0</th>\n",
       "      <td>0</td>\n",
       "      <td>1</td>\n",
       "      <td>UK economy facing major risks\\n\\nThe UK manufa...</td>\n",
       "      <td>business</td>\n",
       "      <td>3</td>\n",
       "      <td>0</td>\n",
       "      <td>0</td>\n",
       "    </tr>\n",
       "    <tr>\n",
       "      <th>1</th>\n",
       "      <td>1</td>\n",
       "      <td>2</td>\n",
       "      <td>Aids and climate top Davos agenda\\n\\nClimate c...</td>\n",
       "      <td>business</td>\n",
       "      <td>2</td>\n",
       "      <td>4</td>\n",
       "      <td>4</td>\n",
       "    </tr>\n",
       "    <tr>\n",
       "      <th>2</th>\n",
       "      <td>2</td>\n",
       "      <td>3</td>\n",
       "      <td>Asian quake hits European shares\\n\\nShares in ...</td>\n",
       "      <td>business</td>\n",
       "      <td>3</td>\n",
       "      <td>0</td>\n",
       "      <td>0</td>\n",
       "    </tr>\n",
       "    <tr>\n",
       "      <th>3</th>\n",
       "      <td>3</td>\n",
       "      <td>4</td>\n",
       "      <td>India power shares jump on debut\\n\\nShares in ...</td>\n",
       "      <td>business</td>\n",
       "      <td>3</td>\n",
       "      <td>0</td>\n",
       "      <td>0</td>\n",
       "    </tr>\n",
       "    <tr>\n",
       "      <th>4</th>\n",
       "      <td>4</td>\n",
       "      <td>5</td>\n",
       "      <td>Lacroix label bought by US firm\\n\\nLuxury good...</td>\n",
       "      <td>business</td>\n",
       "      <td>3</td>\n",
       "      <td>0</td>\n",
       "      <td>0</td>\n",
       "    </tr>\n",
       "    <tr>\n",
       "      <th>...</th>\n",
       "      <td>...</td>\n",
       "      <td>...</td>\n",
       "      <td>...</td>\n",
       "      <td>...</td>\n",
       "      <td>...</td>\n",
       "      <td>...</td>\n",
       "      <td>...</td>\n",
       "    </tr>\n",
       "    <tr>\n",
       "      <th>7018</th>\n",
       "      <td>7015</td>\n",
       "      <td>7312</td>\n",
       "      <td>Mario Lanza, of course, is The Great Caruso in...</td>\n",
       "      <td>movie</td>\n",
       "      <td>4</td>\n",
       "      <td>2</td>\n",
       "      <td>2</td>\n",
       "    </tr>\n",
       "    <tr>\n",
       "      <th>7019</th>\n",
       "      <td>7016</td>\n",
       "      <td>7313</td>\n",
       "      <td>Oh God,what an idiotic movie!Incredibly cheap ...</td>\n",
       "      <td>movie</td>\n",
       "      <td>4</td>\n",
       "      <td>3</td>\n",
       "      <td>3</td>\n",
       "    </tr>\n",
       "    <tr>\n",
       "      <th>7020</th>\n",
       "      <td>7017</td>\n",
       "      <td>7314</td>\n",
       "      <td>Although the likeliness of someone focusing on...</td>\n",
       "      <td>movie</td>\n",
       "      <td>1</td>\n",
       "      <td>3</td>\n",
       "      <td>3</td>\n",
       "    </tr>\n",
       "    <tr>\n",
       "      <th>7021</th>\n",
       "      <td>7018</td>\n",
       "      <td>7315</td>\n",
       "      <td>OK, I would not normally watch a Farrelly brot...</td>\n",
       "      <td>movie</td>\n",
       "      <td>1</td>\n",
       "      <td>3</td>\n",
       "      <td>3</td>\n",
       "    </tr>\n",
       "    <tr>\n",
       "      <th>7022</th>\n",
       "      <td>7022</td>\n",
       "      <td>7319</td>\n",
       "      <td>Piece of subtle art. Maybe a masterpiece. Doub...</td>\n",
       "      <td>movie</td>\n",
       "      <td>4</td>\n",
       "      <td>3</td>\n",
       "      <td>3</td>\n",
       "    </tr>\n",
       "  </tbody>\n",
       "</table>\n",
       "<p>7023 rows × 7 columns</p>\n",
       "</div>"
      ],
      "text/plain": [
       "      index  post_id                                               text  \\\n",
       "0         0        1  UK economy facing major risks\\n\\nThe UK manufa...   \n",
       "1         1        2  Aids and climate top Davos agenda\\n\\nClimate c...   \n",
       "2         2        3  Asian quake hits European shares\\n\\nShares in ...   \n",
       "3         3        4  India power shares jump on debut\\n\\nShares in ...   \n",
       "4         4        5  Lacroix label bought by US firm\\n\\nLuxury good...   \n",
       "...     ...      ...                                                ...   \n",
       "7018   7015     7312  Mario Lanza, of course, is The Great Caruso in...   \n",
       "7019   7016     7313  Oh God,what an idiotic movie!Incredibly cheap ...   \n",
       "7020   7017     7314  Although the likeliness of someone focusing on...   \n",
       "7021   7018     7315  OK, I would not normally watch a Farrelly brot...   \n",
       "7022   7022     7319  Piece of subtle art. Maybe a masterpiece. Doub...   \n",
       "\n",
       "         topic  KMeansTextCluster  DECTextCluster  IDECaugTextCluster  \n",
       "0     business                  3               0                   0  \n",
       "1     business                  2               4                   4  \n",
       "2     business                  3               0                   0  \n",
       "3     business                  3               0                   0  \n",
       "4     business                  3               0                   0  \n",
       "...        ...                ...             ...                 ...  \n",
       "7018     movie                  4               2                   2  \n",
       "7019     movie                  4               3                   3  \n",
       "7020     movie                  1               3                   3  \n",
       "7021     movie                  1               3                   3  \n",
       "7022     movie                  4               3                   3  \n",
       "\n",
       "[7023 rows x 7 columns]"
      ]
     },
     "execution_count": 137,
     "metadata": {},
     "output_type": "execute_result"
    }
   ],
   "source": [
    "# test upload\n",
    "\n",
    "test_ = pd.read_sql(\n",
    "    \"\"\"SELECT * FROM public.grokhi_enhanced_model_posts_info_features\"\"\",\n",
    "\n",
    "    con=\"postgresql://robot-startml-ro:pheiph0hahj1Vaif@\"\n",
    "        \"postgres.lab.karpov.courses:6432/startml\"\n",
    ")\n",
    "\n",
    "test_\n"
   ]
  }
 ],
 "metadata": {
  "kernelspec": {
   "display_name": "Python 3.10.5 64-bit",
   "language": "python",
   "name": "python3"
  },
  "language_info": {
   "codemirror_mode": {
    "name": "ipython",
    "version": 3
   },
   "file_extension": ".py",
   "mimetype": "text/x-python",
   "name": "python",
   "nbconvert_exporter": "python",
   "pygments_lexer": "ipython3",
   "version": "3.10.5"
  },
  "vscode": {
   "interpreter": {
    "hash": "13a6bab5aa7a42c9de985e2bd7ef091596b396c4d5464faf56dce47736f84832"
   }
  }
 },
 "nbformat": 4,
 "nbformat_minor": 5
}
